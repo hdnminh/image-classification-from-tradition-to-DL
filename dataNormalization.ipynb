{
  "cells": [
    {
      "cell_type": "markdown",
      "metadata": {
        "id": "2eKRI5M5Q0hg"
      },
      "source": [
        "# 1. Load libaries"
      ]
    },
    {
      "cell_type": "code",
      "execution_count": 2,
      "metadata": {
        "id": "u9UWsr8EQ0hi"
      },
      "outputs": [],
      "source": [
        "import tensorflow as tf\n",
        "import tensorflow.keras as keras\n",
        "from tensorflow.keras.models import Sequential\n",
        "from tensorflow.keras.preprocessing.image import ImageDataGenerator\n",
        "from tensorflow.keras.layers import Dense, Flatten, Dropout, BatchNormalization \n",
        "from tensorflow.keras.layers import Conv2D, MaxPooling2D \n",
        "from tensorflow.keras.datasets import cifar10 \n",
        "from tensorflow.keras import regularizers, optimizers \n",
        "import numpy as np \n",
        "\n",
        "import matplotlib.pyplot as plt\n",
        "%matplotlib inline\n"
      ]
    },
    {
      "cell_type": "markdown",
      "metadata": {
        "id": "6zlFc7pzQ0hj"
      },
      "source": [
        "# 2. Load data"
      ]
    },
    {
      "cell_type": "code",
      "execution_count": 3,
      "metadata": {
        "colab": {
          "base_uri": "https://localhost:8080/"
        },
        "id": "-Uc7YsHeQ0hj",
        "outputId": "e48ffa1f-31ce-4fe3-c2ac-e9c2a5566899"
      },
      "outputs": [
        {
          "output_type": "stream",
          "name": "stdout",
          "text": [
            "Downloading data from https://www.cs.toronto.edu/~kriz/cifar-10-python.tar.gz\n",
            "170498071/170498071 [==============================] - 6s 0us/step\n"
          ]
        }
      ],
      "source": [
        "(x_train, y_train), (x_test, y_test) = cifar10.load_data()\n"
      ]
    },
    {
      "cell_type": "code",
      "execution_count": 4,
      "metadata": {
        "colab": {
          "base_uri": "https://localhost:8080/"
        },
        "id": "SpAUmXMVQ0hj",
        "outputId": "372106cc-fb0d-43e3-9a0d-307f392ae036"
      },
      "outputs": [
        {
          "output_type": "stream",
          "name": "stdout",
          "text": [
            "(50000, 32, 32, 3)\n",
            "<class 'numpy.ndarray'>\n"
          ]
        }
      ],
      "source": [
        "print(x_train.shape)\n",
        "print(type(x_train))"
      ]
    },
    {
      "cell_type": "markdown",
      "metadata": {
        "id": "xgTSCb1cQ0hk"
      },
      "source": [
        "# 3. Data Normalization - solution 2 for gradient vanishing"
      ]
    },
    {
      "cell_type": "code",
      "execution_count": 5,
      "metadata": {
        "id": "ajSF_T6UQ0hk"
      },
      "outputs": [],
      "source": [
        "\n",
        "x_train = x_train.astype('float32')\n",
        "x_test = x_test.astype('float32')\n",
        "\n",
        "# data normalization\n",
        "mean = np.mean(x_train)\n",
        "std  = np.std(x_train)\n",
        "\n",
        "x_train = (x_train-mean)/std\n",
        "x_test  = (x_test-mean)/std"
      ]
    },
    {
      "cell_type": "code",
      "execution_count": 6,
      "metadata": {
        "colab": {
          "base_uri": "https://localhost:8080/"
        },
        "id": "OUfSSA5iQ0hk",
        "outputId": "00120421-4008-447b-ea95-0f59a38078a7"
      },
      "outputs": [
        {
          "output_type": "stream",
          "name": "stdout",
          "text": [
            "Model: \"sequential\"\n",
            "_________________________________________________________________\n",
            " Layer (type)                Output Shape              Param #   \n",
            "=================================================================\n",
            " conv2d (Conv2D)             (None, 32, 32, 64)        1792      \n",
            "                                                                 \n",
            " conv2d_1 (Conv2D)           (None, 32, 32, 64)        36928     \n",
            "                                                                 \n",
            " conv2d_2 (Conv2D)           (None, 32, 32, 64)        36928     \n",
            "                                                                 \n",
            " max_pooling2d (MaxPooling2D  (None, 16, 16, 64)       0         \n",
            " )                                                               \n",
            "                                                                 \n",
            " conv2d_3 (Conv2D)           (None, 16, 16, 128)       73856     \n",
            "                                                                 \n",
            " conv2d_4 (Conv2D)           (None, 16, 16, 128)       147584    \n",
            "                                                                 \n",
            " conv2d_5 (Conv2D)           (None, 16, 16, 128)       147584    \n",
            "                                                                 \n",
            " max_pooling2d_1 (MaxPooling  (None, 8, 8, 128)        0         \n",
            " 2D)                                                             \n",
            "                                                                 \n",
            " conv2d_6 (Conv2D)           (None, 8, 8, 256)         295168    \n",
            "                                                                 \n",
            " conv2d_7 (Conv2D)           (None, 8, 8, 256)         590080    \n",
            "                                                                 \n",
            " conv2d_8 (Conv2D)           (None, 8, 8, 256)         590080    \n",
            "                                                                 \n",
            " max_pooling2d_2 (MaxPooling  (None, 4, 4, 256)        0         \n",
            " 2D)                                                             \n",
            "                                                                 \n",
            " conv2d_9 (Conv2D)           (None, 4, 4, 512)         1180160   \n",
            "                                                                 \n",
            " conv2d_10 (Conv2D)          (None, 4, 4, 512)         2359808   \n",
            "                                                                 \n",
            " conv2d_11 (Conv2D)          (None, 4, 4, 512)         2359808   \n",
            "                                                                 \n",
            " max_pooling2d_3 (MaxPooling  (None, 2, 2, 512)        0         \n",
            " 2D)                                                             \n",
            "                                                                 \n",
            " flatten (Flatten)           (None, 2048)              0         \n",
            "                                                                 \n",
            " dense (Dense)               (None, 512)               1049088   \n",
            "                                                                 \n",
            " dense_1 (Dense)             (None, 10)                5130      \n",
            "                                                                 \n",
            "=================================================================\n",
            "Total params: 8,873,994\n",
            "Trainable params: 8,873,994\n",
            "Non-trainable params: 0\n",
            "_________________________________________________________________\n"
          ]
        }
      ],
      "source": [
        "# model - 12 layer - relu\n",
        "model7 = keras.models.Sequential()\n",
        "model7.add(tf.keras.Input(shape=(32, 32, 3)))\n",
        "\n",
        "model7.add(keras.layers.Conv2D(64, (3, 3), strides=1, padding='same', activation='relu'))\n",
        "model7.add(keras.layers.Conv2D(64, (3, 3), strides=1, padding='same', activation='relu'))\n",
        "model7.add(keras.layers.Conv2D(64, (3, 3), strides=1, padding='same', activation='relu'))\n",
        "model7.add(keras.layers.MaxPooling2D(2))\n",
        "\n",
        "model7.add(keras.layers.Conv2D(128, (3, 3), strides=1, padding='same', activation='relu'))\n",
        "model7.add(keras.layers.Conv2D(128, (3, 3), strides=1, padding='same', activation='relu'))\n",
        "model7.add(keras.layers.Conv2D(128, (3, 3), strides=1, padding='same', activation='relu'))\n",
        "model7.add(keras.layers.MaxPooling2D(2))\n",
        "\n",
        "model7.add(keras.layers.Conv2D(256, (3, 3), strides=1, padding='same', activation='relu'))\n",
        "model7.add(keras.layers.Conv2D(256, (3, 3), strides=1, padding='same', activation='relu'))\n",
        "model7.add(keras.layers.Conv2D(256, (3, 3), strides=1, padding='same', activation='relu'))\n",
        "model7.add(keras.layers.MaxPooling2D(2))\n",
        "\n",
        "model7.add(keras.layers.Conv2D(512, (3, 3), strides=1, padding='same', activation='relu'))\n",
        "model7.add(keras.layers.Conv2D(512, (3, 3), strides=1, padding='same', activation='relu'))\n",
        "model7.add(keras.layers.Conv2D(512, (3, 3), strides=1, padding='same', activation='relu'))\n",
        "model7.add(keras.layers.MaxPooling2D(2))\n",
        "\n",
        "# flatten\n",
        "model7.add(keras.layers.Flatten())\n",
        "model7.add(keras.layers.Dense(512, activation='relu'))\n",
        "model7.add(keras.layers.Dense(10, activation='softmax'))\n",
        "model7.summary()"
      ]
    },
    {
      "cell_type": "code",
      "execution_count": 7,
      "metadata": {
        "colab": {
          "base_uri": "https://localhost:8080/"
        },
        "id": "7lSbDqy1Q0hl",
        "outputId": "6590837d-a80a-4629-b7f4-0dc1aef7b67d"
      },
      "outputs": [
        {
          "output_type": "stream",
          "name": "stdout",
          "text": [
            "Epoch 1/100\n",
            "196/196 - 39s - loss: 1.8896 - sparse_categorical_accuracy: 0.2628 - val_loss: 1.5510 - val_sparse_categorical_accuracy: 0.3847 - 39s/epoch - 198ms/step\n",
            "Epoch 2/100\n",
            "196/196 - 19s - loss: 1.3949 - sparse_categorical_accuracy: 0.4628 - val_loss: 1.2634 - val_sparse_categorical_accuracy: 0.5344 - 19s/epoch - 97ms/step\n",
            "Epoch 3/100\n",
            "196/196 - 19s - loss: 1.0910 - sparse_categorical_accuracy: 0.6059 - val_loss: 1.0651 - val_sparse_categorical_accuracy: 0.6183 - 19s/epoch - 98ms/step\n",
            "Epoch 4/100\n",
            "196/196 - 20s - loss: 0.8881 - sparse_categorical_accuracy: 0.6836 - val_loss: 0.9079 - val_sparse_categorical_accuracy: 0.6744 - 20s/epoch - 100ms/step\n",
            "Epoch 5/100\n",
            "196/196 - 20s - loss: 0.7419 - sparse_categorical_accuracy: 0.7387 - val_loss: 0.7549 - val_sparse_categorical_accuracy: 0.7429 - 20s/epoch - 101ms/step\n",
            "Epoch 6/100\n",
            "196/196 - 21s - loss: 0.6276 - sparse_categorical_accuracy: 0.7800 - val_loss: 0.7071 - val_sparse_categorical_accuracy: 0.7577 - 21s/epoch - 109ms/step\n",
            "Epoch 7/100\n",
            "196/196 - 22s - loss: 0.5312 - sparse_categorical_accuracy: 0.8163 - val_loss: 0.6581 - val_sparse_categorical_accuracy: 0.7771 - 22s/epoch - 110ms/step\n",
            "Epoch 8/100\n",
            "196/196 - 20s - loss: 0.4637 - sparse_categorical_accuracy: 0.8386 - val_loss: 0.6723 - val_sparse_categorical_accuracy: 0.7792 - 20s/epoch - 103ms/step\n",
            "Epoch 9/100\n",
            "196/196 - 20s - loss: 0.3973 - sparse_categorical_accuracy: 0.8626 - val_loss: 0.6447 - val_sparse_categorical_accuracy: 0.7900 - 20s/epoch - 102ms/step\n",
            "Epoch 10/100\n",
            "196/196 - 21s - loss: 0.3327 - sparse_categorical_accuracy: 0.8843 - val_loss: 0.6639 - val_sparse_categorical_accuracy: 0.7918 - 21s/epoch - 109ms/step\n",
            "Epoch 11/100\n",
            "196/196 - 20s - loss: 0.2952 - sparse_categorical_accuracy: 0.8967 - val_loss: 0.7011 - val_sparse_categorical_accuracy: 0.7885 - 20s/epoch - 103ms/step\n",
            "Epoch 12/100\n",
            "196/196 - 20s - loss: 0.2438 - sparse_categorical_accuracy: 0.9151 - val_loss: 0.7707 - val_sparse_categorical_accuracy: 0.7777 - 20s/epoch - 103ms/step\n",
            "Epoch 13/100\n",
            "196/196 - 21s - loss: 0.2258 - sparse_categorical_accuracy: 0.9232 - val_loss: 0.7710 - val_sparse_categorical_accuracy: 0.7943 - 21s/epoch - 109ms/step\n",
            "Epoch 14/100\n",
            "196/196 - 20s - loss: 0.1974 - sparse_categorical_accuracy: 0.9307 - val_loss: 0.7586 - val_sparse_categorical_accuracy: 0.7929 - 20s/epoch - 103ms/step\n",
            "Epoch 15/100\n",
            "196/196 - 20s - loss: 0.1710 - sparse_categorical_accuracy: 0.9413 - val_loss: 0.7824 - val_sparse_categorical_accuracy: 0.7996 - 20s/epoch - 103ms/step\n",
            "Epoch 16/100\n",
            "196/196 - 21s - loss: 0.1608 - sparse_categorical_accuracy: 0.9441 - val_loss: 0.8745 - val_sparse_categorical_accuracy: 0.7949 - 21s/epoch - 109ms/step\n",
            "Epoch 17/100\n",
            "196/196 - 20s - loss: 0.1430 - sparse_categorical_accuracy: 0.9501 - val_loss: 0.7964 - val_sparse_categorical_accuracy: 0.8039 - 20s/epoch - 103ms/step\n",
            "Epoch 18/100\n",
            "196/196 - 20s - loss: 0.1392 - sparse_categorical_accuracy: 0.9517 - val_loss: 0.8934 - val_sparse_categorical_accuracy: 0.7989 - 20s/epoch - 103ms/step\n",
            "Epoch 19/100\n",
            "196/196 - 21s - loss: 0.1154 - sparse_categorical_accuracy: 0.9608 - val_loss: 0.9872 - val_sparse_categorical_accuracy: 0.7955 - 21s/epoch - 109ms/step\n",
            "Epoch 20/100\n",
            "196/196 - 20s - loss: 0.1106 - sparse_categorical_accuracy: 0.9631 - val_loss: 0.8858 - val_sparse_categorical_accuracy: 0.8011 - 20s/epoch - 102ms/step\n",
            "Epoch 21/100\n",
            "196/196 - 20s - loss: 0.1046 - sparse_categorical_accuracy: 0.9640 - val_loss: 0.9481 - val_sparse_categorical_accuracy: 0.7914 - 20s/epoch - 103ms/step\n",
            "Epoch 22/100\n",
            "196/196 - 21s - loss: 0.1021 - sparse_categorical_accuracy: 0.9661 - val_loss: 0.9549 - val_sparse_categorical_accuracy: 0.7999 - 21s/epoch - 109ms/step\n",
            "Epoch 23/100\n",
            "196/196 - 20s - loss: 0.0946 - sparse_categorical_accuracy: 0.9679 - val_loss: 1.0417 - val_sparse_categorical_accuracy: 0.7992 - 20s/epoch - 103ms/step\n",
            "Epoch 24/100\n",
            "196/196 - 20s - loss: 0.0990 - sparse_categorical_accuracy: 0.9669 - val_loss: 0.9232 - val_sparse_categorical_accuracy: 0.8074 - 20s/epoch - 103ms/step\n",
            "Epoch 25/100\n",
            "196/196 - 21s - loss: 0.0861 - sparse_categorical_accuracy: 0.9707 - val_loss: 0.9454 - val_sparse_categorical_accuracy: 0.8040 - 21s/epoch - 109ms/step\n",
            "Epoch 26/100\n",
            "196/196 - 20s - loss: 0.0720 - sparse_categorical_accuracy: 0.9758 - val_loss: 1.0353 - val_sparse_categorical_accuracy: 0.7928 - 20s/epoch - 103ms/step\n",
            "Epoch 27/100\n",
            "196/196 - 20s - loss: 0.0845 - sparse_categorical_accuracy: 0.9720 - val_loss: 0.9909 - val_sparse_categorical_accuracy: 0.8040 - 20s/epoch - 103ms/step\n",
            "Epoch 28/100\n",
            "196/196 - 20s - loss: 0.0789 - sparse_categorical_accuracy: 0.9739 - val_loss: 1.0328 - val_sparse_categorical_accuracy: 0.7970 - 20s/epoch - 103ms/step\n",
            "Epoch 29/100\n",
            "196/196 - 20s - loss: 0.0714 - sparse_categorical_accuracy: 0.9769 - val_loss: 0.9756 - val_sparse_categorical_accuracy: 0.8072 - 20s/epoch - 103ms/step\n",
            "Epoch 30/100\n",
            "196/196 - 20s - loss: 0.0684 - sparse_categorical_accuracy: 0.9767 - val_loss: 0.9723 - val_sparse_categorical_accuracy: 0.8016 - 20s/epoch - 103ms/step\n",
            "Epoch 31/100\n",
            "196/196 - 20s - loss: 0.0710 - sparse_categorical_accuracy: 0.9773 - val_loss: 1.0987 - val_sparse_categorical_accuracy: 0.8077 - 20s/epoch - 102ms/step\n",
            "Epoch 32/100\n",
            "196/196 - 20s - loss: 0.0655 - sparse_categorical_accuracy: 0.9784 - val_loss: 1.1224 - val_sparse_categorical_accuracy: 0.7893 - 20s/epoch - 103ms/step\n",
            "Epoch 33/100\n",
            "196/196 - 21s - loss: 0.0687 - sparse_categorical_accuracy: 0.9773 - val_loss: 1.1320 - val_sparse_categorical_accuracy: 0.8065 - 21s/epoch - 109ms/step\n",
            "Epoch 34/100\n",
            "196/196 - 20s - loss: 0.0815 - sparse_categorical_accuracy: 0.9730 - val_loss: 0.9512 - val_sparse_categorical_accuracy: 0.7960 - 20s/epoch - 102ms/step\n",
            "Epoch 35/100\n",
            "196/196 - 20s - loss: 0.0646 - sparse_categorical_accuracy: 0.9792 - val_loss: 1.0714 - val_sparse_categorical_accuracy: 0.8072 - 20s/epoch - 103ms/step\n",
            "Epoch 36/100\n",
            "196/196 - 20s - loss: 0.0670 - sparse_categorical_accuracy: 0.9785 - val_loss: 1.1585 - val_sparse_categorical_accuracy: 0.7940 - 20s/epoch - 103ms/step\n",
            "Epoch 37/100\n",
            "196/196 - 20s - loss: 0.0650 - sparse_categorical_accuracy: 0.9788 - val_loss: 1.0936 - val_sparse_categorical_accuracy: 0.7988 - 20s/epoch - 103ms/step\n",
            "Epoch 38/100\n",
            "196/196 - 20s - loss: 0.0644 - sparse_categorical_accuracy: 0.9788 - val_loss: 1.1371 - val_sparse_categorical_accuracy: 0.8017 - 20s/epoch - 102ms/step\n",
            "Epoch 39/100\n",
            "196/196 - 20s - loss: 0.0621 - sparse_categorical_accuracy: 0.9802 - val_loss: 0.9991 - val_sparse_categorical_accuracy: 0.8116 - 20s/epoch - 102ms/step\n",
            "Epoch 40/100\n",
            "196/196 - 20s - loss: 0.0532 - sparse_categorical_accuracy: 0.9828 - val_loss: 1.1606 - val_sparse_categorical_accuracy: 0.7975 - 20s/epoch - 103ms/step\n",
            "Epoch 41/100\n",
            "196/196 - 21s - loss: 0.0598 - sparse_categorical_accuracy: 0.9818 - val_loss: 1.1887 - val_sparse_categorical_accuracy: 0.8091 - 21s/epoch - 109ms/step\n",
            "Epoch 42/100\n",
            "196/196 - 20s - loss: 0.0586 - sparse_categorical_accuracy: 0.9817 - val_loss: 1.1618 - val_sparse_categorical_accuracy: 0.8073 - 20s/epoch - 103ms/step\n",
            "Epoch 43/100\n",
            "196/196 - 20s - loss: 0.0677 - sparse_categorical_accuracy: 0.9781 - val_loss: 1.1162 - val_sparse_categorical_accuracy: 0.8082 - 20s/epoch - 103ms/step\n",
            "Epoch 44/100\n",
            "196/196 - 21s - loss: 0.0609 - sparse_categorical_accuracy: 0.9810 - val_loss: 1.1315 - val_sparse_categorical_accuracy: 0.8066 - 21s/epoch - 109ms/step\n",
            "Epoch 45/100\n",
            "196/196 - 20s - loss: 0.0628 - sparse_categorical_accuracy: 0.9798 - val_loss: 1.1024 - val_sparse_categorical_accuracy: 0.8018 - 20s/epoch - 102ms/step\n",
            "Epoch 46/100\n",
            "196/196 - 20s - loss: 0.0720 - sparse_categorical_accuracy: 0.9775 - val_loss: 1.0998 - val_sparse_categorical_accuracy: 0.8082 - 20s/epoch - 103ms/step\n",
            "Epoch 47/100\n",
            "196/196 - 21s - loss: 0.0610 - sparse_categorical_accuracy: 0.9804 - val_loss: 1.2088 - val_sparse_categorical_accuracy: 0.8007 - 21s/epoch - 109ms/step\n",
            "Epoch 48/100\n",
            "196/196 - 20s - loss: 0.0535 - sparse_categorical_accuracy: 0.9828 - val_loss: 1.3837 - val_sparse_categorical_accuracy: 0.8089 - 20s/epoch - 102ms/step\n",
            "Epoch 49/100\n",
            "196/196 - 20s - loss: 0.0525 - sparse_categorical_accuracy: 0.9839 - val_loss: 1.1914 - val_sparse_categorical_accuracy: 0.7868 - 20s/epoch - 103ms/step\n",
            "Epoch 50/100\n",
            "196/196 - 21s - loss: 0.0532 - sparse_categorical_accuracy: 0.9835 - val_loss: 1.3104 - val_sparse_categorical_accuracy: 0.8075 - 21s/epoch - 109ms/step\n",
            "Epoch 51/100\n",
            "196/196 - 20s - loss: 0.0599 - sparse_categorical_accuracy: 0.9816 - val_loss: 1.1773 - val_sparse_categorical_accuracy: 0.8113 - 20s/epoch - 103ms/step\n",
            "Epoch 52/100\n",
            "196/196 - 20s - loss: 0.0561 - sparse_categorical_accuracy: 0.9822 - val_loss: 1.3123 - val_sparse_categorical_accuracy: 0.8076 - 20s/epoch - 103ms/step\n",
            "Epoch 53/100\n",
            "196/196 - 21s - loss: 0.0572 - sparse_categorical_accuracy: 0.9824 - val_loss: 1.2864 - val_sparse_categorical_accuracy: 0.8101 - 21s/epoch - 109ms/step\n",
            "Epoch 54/100\n",
            "196/196 - 20s - loss: 0.0571 - sparse_categorical_accuracy: 0.9823 - val_loss: 1.1171 - val_sparse_categorical_accuracy: 0.8104 - 20s/epoch - 103ms/step\n",
            "Epoch 55/100\n",
            "196/196 - 20s - loss: 0.0475 - sparse_categorical_accuracy: 0.9849 - val_loss: 1.2959 - val_sparse_categorical_accuracy: 0.8114 - 20s/epoch - 103ms/step\n",
            "Epoch 56/100\n",
            "196/196 - 21s - loss: 0.0591 - sparse_categorical_accuracy: 0.9821 - val_loss: 1.0710 - val_sparse_categorical_accuracy: 0.8076 - 21s/epoch - 109ms/step\n",
            "Epoch 57/100\n",
            "196/196 - 20s - loss: 0.0564 - sparse_categorical_accuracy: 0.9829 - val_loss: 1.0640 - val_sparse_categorical_accuracy: 0.8130 - 20s/epoch - 102ms/step\n",
            "Epoch 58/100\n",
            "196/196 - 20s - loss: 0.0522 - sparse_categorical_accuracy: 0.9848 - val_loss: 1.2038 - val_sparse_categorical_accuracy: 0.8086 - 20s/epoch - 102ms/step\n",
            "Epoch 59/100\n",
            "196/196 - 21s - loss: 0.0475 - sparse_categorical_accuracy: 0.9853 - val_loss: 1.2438 - val_sparse_categorical_accuracy: 0.8014 - 21s/epoch - 109ms/step\n",
            "Epoch 60/100\n",
            "196/196 - 20s - loss: 0.0553 - sparse_categorical_accuracy: 0.9830 - val_loss: 1.1628 - val_sparse_categorical_accuracy: 0.8122 - 20s/epoch - 102ms/step\n",
            "Epoch 61/100\n",
            "196/196 - 20s - loss: 0.0524 - sparse_categorical_accuracy: 0.9833 - val_loss: 1.2130 - val_sparse_categorical_accuracy: 0.8052 - 20s/epoch - 102ms/step\n",
            "Epoch 62/100\n",
            "196/196 - 21s - loss: 0.0631 - sparse_categorical_accuracy: 0.9817 - val_loss: 1.1821 - val_sparse_categorical_accuracy: 0.7986 - 21s/epoch - 109ms/step\n",
            "Epoch 63/100\n",
            "196/196 - 20s - loss: 0.0539 - sparse_categorical_accuracy: 0.9834 - val_loss: 1.2778 - val_sparse_categorical_accuracy: 0.8144 - 20s/epoch - 102ms/step\n",
            "Epoch 64/100\n",
            "196/196 - 20s - loss: 0.0460 - sparse_categorical_accuracy: 0.9868 - val_loss: 1.1393 - val_sparse_categorical_accuracy: 0.8039 - 20s/epoch - 102ms/step\n",
            "Epoch 65/100\n",
            "196/196 - 21s - loss: 0.0458 - sparse_categorical_accuracy: 0.9862 - val_loss: 1.3014 - val_sparse_categorical_accuracy: 0.8136 - 21s/epoch - 109ms/step\n",
            "Epoch 66/100\n",
            "196/196 - 20s - loss: 0.0494 - sparse_categorical_accuracy: 0.9850 - val_loss: 1.3143 - val_sparse_categorical_accuracy: 0.8076 - 20s/epoch - 102ms/step\n",
            "Epoch 67/100\n",
            "196/196 - 20s - loss: 0.0593 - sparse_categorical_accuracy: 0.9825 - val_loss: 1.2049 - val_sparse_categorical_accuracy: 0.8127 - 20s/epoch - 103ms/step\n",
            "Epoch 68/100\n",
            "196/196 - 21s - loss: 0.0459 - sparse_categorical_accuracy: 0.9858 - val_loss: 1.3718 - val_sparse_categorical_accuracy: 0.8118 - 21s/epoch - 109ms/step\n",
            "Epoch 69/100\n",
            "196/196 - 20s - loss: 0.0500 - sparse_categorical_accuracy: 0.9848 - val_loss: 1.3491 - val_sparse_categorical_accuracy: 0.8068 - 20s/epoch - 102ms/step\n",
            "Epoch 70/100\n",
            "196/196 - 20s - loss: 0.0677 - sparse_categorical_accuracy: 0.9805 - val_loss: 1.1517 - val_sparse_categorical_accuracy: 0.8083 - 20s/epoch - 102ms/step\n",
            "Epoch 71/100\n",
            "196/196 - 21s - loss: 0.0402 - sparse_categorical_accuracy: 0.9877 - val_loss: 1.5733 - val_sparse_categorical_accuracy: 0.8018 - 21s/epoch - 109ms/step\n",
            "Epoch 72/100\n",
            "196/196 - 20s - loss: 0.0702 - sparse_categorical_accuracy: 0.9799 - val_loss: 1.3894 - val_sparse_categorical_accuracy: 0.8019 - 20s/epoch - 102ms/step\n",
            "Epoch 73/100\n",
            "196/196 - 20s - loss: 0.0551 - sparse_categorical_accuracy: 0.9833 - val_loss: 1.2152 - val_sparse_categorical_accuracy: 0.8121 - 20s/epoch - 103ms/step\n",
            "Epoch 74/100\n",
            "196/196 - 20s - loss: 0.0406 - sparse_categorical_accuracy: 0.9882 - val_loss: 1.4250 - val_sparse_categorical_accuracy: 0.8158 - 20s/epoch - 102ms/step\n",
            "Epoch 75/100\n",
            "196/196 - 20s - loss: 0.0404 - sparse_categorical_accuracy: 0.9888 - val_loss: 1.4964 - val_sparse_categorical_accuracy: 0.8148 - 20s/epoch - 103ms/step\n",
            "Epoch 76/100\n",
            "196/196 - 20s - loss: 0.0474 - sparse_categorical_accuracy: 0.9864 - val_loss: 1.3324 - val_sparse_categorical_accuracy: 0.8012 - 20s/epoch - 103ms/step\n",
            "Epoch 77/100\n",
            "196/196 - 20s - loss: 0.0495 - sparse_categorical_accuracy: 0.9852 - val_loss: 1.4871 - val_sparse_categorical_accuracy: 0.8047 - 20s/epoch - 102ms/step\n",
            "Epoch 78/100\n",
            "196/196 - 20s - loss: 0.0536 - sparse_categorical_accuracy: 0.9851 - val_loss: 1.4372 - val_sparse_categorical_accuracy: 0.7982 - 20s/epoch - 103ms/step\n",
            "Epoch 79/100\n",
            "196/196 - 21s - loss: 0.0574 - sparse_categorical_accuracy: 0.9834 - val_loss: 1.3083 - val_sparse_categorical_accuracy: 0.8066 - 21s/epoch - 109ms/step\n",
            "Epoch 80/100\n",
            "196/196 - 20s - loss: 0.0438 - sparse_categorical_accuracy: 0.9866 - val_loss: 1.3061 - val_sparse_categorical_accuracy: 0.8135 - 20s/epoch - 102ms/step\n",
            "Epoch 81/100\n",
            "196/196 - 20s - loss: 0.0438 - sparse_categorical_accuracy: 0.9872 - val_loss: 1.2444 - val_sparse_categorical_accuracy: 0.8035 - 20s/epoch - 102ms/step\n",
            "Epoch 82/100\n",
            "196/196 - 21s - loss: 0.0696 - sparse_categorical_accuracy: 0.9802 - val_loss: 1.2101 - val_sparse_categorical_accuracy: 0.8091 - 21s/epoch - 109ms/step\n",
            "Epoch 83/100\n",
            "196/196 - 20s - loss: 0.0507 - sparse_categorical_accuracy: 0.9846 - val_loss: 1.2739 - val_sparse_categorical_accuracy: 0.7993 - 20s/epoch - 102ms/step\n",
            "Epoch 84/100\n",
            "196/196 - 20s - loss: 0.0530 - sparse_categorical_accuracy: 0.9843 - val_loss: 1.4793 - val_sparse_categorical_accuracy: 0.8121 - 20s/epoch - 103ms/step\n",
            "Epoch 85/100\n",
            "196/196 - 21s - loss: 0.0285 - sparse_categorical_accuracy: 0.9913 - val_loss: 1.2764 - val_sparse_categorical_accuracy: 0.8179 - 21s/epoch - 109ms/step\n",
            "Epoch 86/100\n",
            "196/196 - 20s - loss: 0.0379 - sparse_categorical_accuracy: 0.9889 - val_loss: 1.4658 - val_sparse_categorical_accuracy: 0.8095 - 20s/epoch - 102ms/step\n",
            "Epoch 87/100\n",
            "196/196 - 20s - loss: 0.0558 - sparse_categorical_accuracy: 0.9842 - val_loss: 1.4746 - val_sparse_categorical_accuracy: 0.8103 - 20s/epoch - 102ms/step\n",
            "Epoch 88/100\n",
            "196/196 - 21s - loss: 0.0473 - sparse_categorical_accuracy: 0.9861 - val_loss: 1.3831 - val_sparse_categorical_accuracy: 0.8149 - 21s/epoch - 109ms/step\n",
            "Epoch 89/100\n",
            "196/196 - 20s - loss: 0.0434 - sparse_categorical_accuracy: 0.9885 - val_loss: 1.3319 - val_sparse_categorical_accuracy: 0.8071 - 20s/epoch - 102ms/step\n",
            "Epoch 90/100\n",
            "196/196 - 20s - loss: 0.0425 - sparse_categorical_accuracy: 0.9870 - val_loss: 1.4097 - val_sparse_categorical_accuracy: 0.8218 - 20s/epoch - 103ms/step\n",
            "Epoch 91/100\n",
            "196/196 - 20s - loss: 0.0631 - sparse_categorical_accuracy: 0.9813 - val_loss: 1.4807 - val_sparse_categorical_accuracy: 0.8052 - 20s/epoch - 103ms/step\n",
            "Epoch 92/100\n",
            "196/196 - 20s - loss: 0.0519 - sparse_categorical_accuracy: 0.9856 - val_loss: 1.2923 - val_sparse_categorical_accuracy: 0.8132 - 20s/epoch - 102ms/step\n",
            "Epoch 93/100\n",
            "196/196 - 20s - loss: 0.0358 - sparse_categorical_accuracy: 0.9899 - val_loss: 1.3908 - val_sparse_categorical_accuracy: 0.8110 - 20s/epoch - 102ms/step\n",
            "Epoch 94/100\n",
            "196/196 - 20s - loss: 0.0422 - sparse_categorical_accuracy: 0.9876 - val_loss: 1.3638 - val_sparse_categorical_accuracy: 0.8159 - 20s/epoch - 102ms/step\n",
            "Epoch 95/100\n",
            "196/196 - 20s - loss: 0.0537 - sparse_categorical_accuracy: 0.9852 - val_loss: 1.3163 - val_sparse_categorical_accuracy: 0.8090 - 20s/epoch - 102ms/step\n",
            "Epoch 96/100\n",
            "196/196 - 21s - loss: 0.0495 - sparse_categorical_accuracy: 0.9858 - val_loss: 1.3307 - val_sparse_categorical_accuracy: 0.8137 - 21s/epoch - 109ms/step\n",
            "Epoch 97/100\n",
            "196/196 - 20s - loss: 0.0323 - sparse_categorical_accuracy: 0.9906 - val_loss: 1.5580 - val_sparse_categorical_accuracy: 0.8122 - 20s/epoch - 102ms/step\n",
            "Epoch 98/100\n",
            "196/196 - 20s - loss: 0.0387 - sparse_categorical_accuracy: 0.9887 - val_loss: 1.3619 - val_sparse_categorical_accuracy: 0.8152 - 20s/epoch - 102ms/step\n",
            "Epoch 99/100\n",
            "196/196 - 21s - loss: 0.0481 - sparse_categorical_accuracy: 0.9860 - val_loss: 1.5362 - val_sparse_categorical_accuracy: 0.8043 - 21s/epoch - 109ms/step\n",
            "Epoch 100/100\n",
            "196/196 - 20s - loss: 0.0602 - sparse_categorical_accuracy: 0.9837 - val_loss: 1.3196 - val_sparse_categorical_accuracy: 0.8037 - 20s/epoch - 102ms/step\n"
          ]
        }
      ],
      "source": [
        "# optimizer and loss\n",
        "# opt = tf.keras.optimizers.Adam(0.0001)\n",
        "model7.compile(optimizer='adam', \n",
        "              loss='sparse_categorical_crossentropy', \n",
        "              metrics=['sparse_categorical_accuracy'])\n",
        "\n",
        "# training\n",
        "history5 = model7.fit(x_train, y_train, \n",
        "                    validation_data=(x_test, y_test), \n",
        "                    batch_size=256, \n",
        "                    epochs=100, verbose = 2)"
      ]
    },
    {
      "cell_type": "code",
      "execution_count": 10,
      "metadata": {
        "colab": {
          "base_uri": "https://localhost:8080/",
          "height": 515
        },
        "id": "uu2d-4_CQ0hl",
        "outputId": "f6d6ad0a-0c6d-436c-be41-2a7192f13d6d"
      },
      "outputs": [
        {
          "output_type": "display_data",
          "data": {
            "text/plain": [
              "<Figure size 800x500 with 2 Axes>"
            ],
            "image/png": "[encoded data removed]"
          },
          "metadata": {}
        }
      ],
      "source": [
        "fig, axs = plt.subplots(nrows = 1, ncols =2 , figsize = (8,5))\n",
        "axs[0].plot(range(len(history5.history['sparse_categorical_accuracy'])), history5.history['sparse_categorical_accuracy'], label='training', linewidth = 5)\n",
        "axs[0].plot(range(len(history5.history['val_sparse_categorical_accuracy'])), history5.history['val_sparse_categorical_accuracy'], label='validation', linewidth = 5)\n",
        "axs[1].plot(range(len(history5.history['loss'])), history5.history['loss'], label='training', linewidth = 5)\n",
        "axs[1].plot(range(len(history5.history['val_loss'])), history5.history['val_loss'], label='validation', linewidth = 5)\n",
        "axs[0].set_xlabel(\"epochs\", fontweight = 'bold')\n",
        "axs[1].set_xlabel(\"epochs\", fontweight = 'bold')\n",
        "axs[0].set_ylabel(\"Accuracy\", fontweight = 'bold')\n",
        "axs[1].set_ylabel(\"Loss\", fontweight = 'bold')\n",
        "plt.legend()\n",
        "fig.suptitle(\"Data normalization - 12 layer conv2D - relu for hidden layers - Cifar10\", fontweight = 'bold')\n",
        "plt.show()"
      ]
    }
  ],
  "metadata": {
    "kernelspec": {
      "display_name": "tf",
      "language": "python",
      "name": "python3"
    },
    "language_info": {
      "codemirror_mode": {
        "name": "ipython",
        "version": 3
      },
      "file_extension": ".py",
      "mimetype": "text/x-python",
      "name": "python",
      "nbconvert_exporter": "python",
      "pygments_lexer": "ipython3",
      "version": "3.9.15"
    },
    "orig_nbformat": 4,
    "colab": {
      "provenance": [],
      "gpuType": "T4"
    },
    "accelerator": "GPU",
    "gpuClass": "standard"
  },
  "nbformat": 4,
  "nbformat_minor": 0
}